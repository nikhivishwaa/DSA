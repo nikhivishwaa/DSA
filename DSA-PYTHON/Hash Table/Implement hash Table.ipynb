{
 "cells": [
  {
   "cell_type": "markdown",
   "id": "1c2b7ffd",
   "metadata": {},
   "source": [
    "## Hash Table / Hash Map"
   ]
  },
  {
   "cell_type": "code",
   "execution_count": 15,
   "id": "21fc6a21",
   "metadata": {},
   "outputs": [],
   "source": [
    "class  HashTable:\n",
    "    def __init__(self):\n",
    "        self.MAX = 100\n",
    "        self.table = [None] * self.MAX\n",
    "        \n",
    "    def get_hash(self, key):\n",
    "        h = 0\n",
    "        for char in key:\n",
    "            h += ord(char)\n",
    "            \n",
    "        return h % self.MAX\n",
    "    \n",
    "    def __setitem__(self, key, value):\n",
    "        h = self.get_hash(key)\n",
    "        self.table[h] = value\n",
    "        \n",
    "    def __getitem__(self, key):\n",
    "        h = self.get_hash(key)\n",
    "        value = self.table[h]\n",
    "        if value is not None:\n",
    "            return value\n",
    "        else:\n",
    "            raise KeyError('key not exist')\n",
    "            \n",
    "    def __delitem__(self, key):\n",
    "        h = self.get_hash(key)\n",
    "        self.table[h] = None\n",
    "        \n",
    "    def print_table(self):\n",
    "        print(self.table)"
   ]
  },
  {
   "cell_type": "code",
   "execution_count": 16,
   "id": "cb76d7f6",
   "metadata": {},
   "outputs": [],
   "source": [
    "ht = HashTable()"
   ]
  },
  {
   "cell_type": "code",
   "execution_count": 17,
   "id": "d4fbbc89",
   "metadata": {},
   "outputs": [
    {
     "name": "stdout",
     "output_type": "stream",
     "text": [
      "[None, None, None, None, None, None, None, None, None, 145, None, None, None, None, None, None, None, None, None, None, None, None, None, None, None, None, None, None, None, None, None, None, None, None, None, None, None, None, None, None, None, None, None, None, None, None, None, None, None, None, None, None, None, None, None, None, None, None, None, None, None, None, None, None, None, None, None, None, None, None, None, None, None, None, None, None, None, None, None, None, None, None, None, None, None, None, None, None, None, None, None, None, None, None, None, None, None, None, None, None]\n"
     ]
    }
   ],
   "source": [
    "ht['march 6'] = 145\n",
    "ht.print_table()"
   ]
  },
  {
   "cell_type": "code",
   "execution_count": 18,
   "id": "d3698acb",
   "metadata": {},
   "outputs": [
    {
     "data": {
      "text/plain": [
       "145"
      ]
     },
     "execution_count": 18,
     "metadata": {},
     "output_type": "execute_result"
    }
   ],
   "source": [
    "ht['march 6']"
   ]
  },
  {
   "cell_type": "code",
   "execution_count": 19,
   "id": "e25a2b77",
   "metadata": {},
   "outputs": [],
   "source": [
    "ht['march 5'] = 150\n",
    "ht['march 7'] = 148\n",
    "ht['march 8'] = 200"
   ]
  },
  {
   "cell_type": "code",
   "execution_count": 20,
   "id": "ac9b5bc4",
   "metadata": {},
   "outputs": [
    {
     "name": "stdout",
     "output_type": "stream",
     "text": [
      "[None, None, None, None, None, None, None, None, 150, 145, 148, 200, None, None, None, None, None, None, None, None, None, None, None, None, None, None, None, None, None, None, None, None, None, None, None, None, None, None, None, None, None, None, None, None, None, None, None, None, None, None, None, None, None, None, None, None, None, None, None, None, None, None, None, None, None, None, None, None, None, None, None, None, None, None, None, None, None, None, None, None, None, None, None, None, None, None, None, None, None, None, None, None, None, None, None, None, None, None, None, None]\n"
     ]
    }
   ],
   "source": [
    "ht.print_table()"
   ]
  },
  {
   "cell_type": "code",
   "execution_count": 21,
   "id": "a7563775",
   "metadata": {},
   "outputs": [],
   "source": [
    "del ht['march 6']"
   ]
  },
  {
   "cell_type": "code",
   "execution_count": 22,
   "id": "f3fff6eb",
   "metadata": {},
   "outputs": [
    {
     "ename": "KeyError",
     "evalue": "'key not exist'",
     "output_type": "error",
     "traceback": [
      "\u001b[1;31m---------------------------------------------------------------------------\u001b[0m",
      "\u001b[1;31mKeyError\u001b[0m                                  Traceback (most recent call last)",
      "Cell \u001b[1;32mIn[22], line 1\u001b[0m\n\u001b[1;32m----> 1\u001b[0m ht[\u001b[38;5;124m'\u001b[39m\u001b[38;5;124mmarch 6\u001b[39m\u001b[38;5;124m'\u001b[39m]\n",
      "Cell \u001b[1;32mIn[15], line 23\u001b[0m, in \u001b[0;36mHashTable.__getitem__\u001b[1;34m(self, key)\u001b[0m\n\u001b[0;32m     21\u001b[0m     \u001b[38;5;28;01mreturn\u001b[39;00m value\n\u001b[0;32m     22\u001b[0m \u001b[38;5;28;01melse\u001b[39;00m:\n\u001b[1;32m---> 23\u001b[0m     \u001b[38;5;28;01mraise\u001b[39;00m \u001b[38;5;167;01mKeyError\u001b[39;00m(\u001b[38;5;124m'\u001b[39m\u001b[38;5;124mkey not exist\u001b[39m\u001b[38;5;124m'\u001b[39m)\n",
      "\u001b[1;31mKeyError\u001b[0m: 'key not exist'"
     ]
    }
   ],
   "source": [
    "ht['march 6']"
   ]
  },
  {
   "cell_type": "code",
   "execution_count": 23,
   "id": "74142fda",
   "metadata": {},
   "outputs": [],
   "source": [
    "ht['march 6'] = 99"
   ]
  },
  {
   "cell_type": "code",
   "execution_count": 24,
   "id": "7aa6a4d8",
   "metadata": {},
   "outputs": [
    {
     "data": {
      "text/plain": [
       "99"
      ]
     },
     "execution_count": 24,
     "metadata": {},
     "output_type": "execute_result"
    }
   ],
   "source": [
    "ht['march 6']"
   ]
  },
  {
   "cell_type": "code",
   "execution_count": null,
   "id": "13088316",
   "metadata": {},
   "outputs": [],
   "source": []
  }
 ],
 "metadata": {
  "kernelspec": {
   "display_name": "Python 3 (ipykernel)",
   "language": "python",
   "name": "python3"
  },
  "language_info": {
   "codemirror_mode": {
    "name": "ipython",
    "version": 3
   },
   "file_extension": ".py",
   "mimetype": "text/x-python",
   "name": "python",
   "nbconvert_exporter": "python",
   "pygments_lexer": "ipython3",
   "version": "3.11.3"
  }
 },
 "nbformat": 4,
 "nbformat_minor": 5
}
