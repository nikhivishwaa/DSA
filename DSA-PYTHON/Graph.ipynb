{
 "cells": [
  {
   "cell_type": "code",
   "execution_count": 73,
   "id": "6b98d921",
   "metadata": {},
   "outputs": [],
   "source": [
    "class Graph:\n",
    "    def __init__(self, edges):\n",
    "        self.graph_dict = dict()\n",
    "        for start, end in edges:\n",
    "            if start in self.graph_dict:\n",
    "                self.graph_dict[start].append(end)\n",
    "                \n",
    "            else:\n",
    "                self.graph_dict[start] = [end]\n",
    "                \n",
    "    def get_graph(self):\n",
    "        print(self.graph_dict)\n",
    "                \n",
    "    def get_paths(self, start, end, path=[]):\n",
    "       # bfs search\n",
    "\n",
    "        path = path + [start]\n",
    "       # print(\"path:\",path)\n",
    "        \n",
    "        if start == end:\n",
    "            return [path]\n",
    "        \n",
    "        if start not in self.graph_dict:\n",
    "            return []\n",
    "        \n",
    "        paths = []\n",
    "        \n",
    "        for node in self.graph_dict[start]:\n",
    "            if node not in path:\n",
    "                new_paths = self.get_paths(node,end,path)\n",
    "                for p in new_paths:\n",
    "                    paths.append(p)\n",
    "                    \n",
    "        return paths"
   ]
  },
  {
   "cell_type": "code",
   "execution_count": 74,
   "id": "7a0a7597",
   "metadata": {},
   "outputs": [],
   "source": [
    "routes = [\n",
    "    ('india','malesiya'),\n",
    "    ('india','usa'),\n",
    "    ('bangladesh','malesiya'),\n",
    "    ('austrelia','usa'),\n",
    "    ('austrelia','india'),\n",
    "    ('india','austrelia'),\n",
    "    ('india','brazil'),\n",
    "    ('brazil','london'),\n",
    "    ('brazil','china'),\n",
    "    ('india','china'),\n",
    "    ('london','usa'),\n",
    "    ('china','london'),\n",
    "    ('usa','china'),\n",
    "    ('india','thailand'),\n",
    "    ('malesiya','usa'),\n",
    "]\n",
    "\n",
    "flight_net = Graph(routes)"
   ]
  },
  {
   "cell_type": "code",
   "execution_count": 75,
   "id": "fdd47873",
   "metadata": {},
   "outputs": [
    {
     "name": "stdout",
     "output_type": "stream",
     "text": [
      "{'india': ['malesiya', 'usa', 'austrelia', 'brazil', 'china', 'thailand'], 'bangladesh': ['malesiya'], 'austrelia': ['usa', 'india'], 'brazil': ['london', 'china'], 'london': ['usa'], 'china': ['london'], 'usa': ['china'], 'malesiya': ['usa']}\n"
     ]
    }
   ],
   "source": [
    "flight_net.get_graph()"
   ]
  },
  {
   "cell_type": "code",
   "execution_count": 76,
   "id": "49fa6bd9",
   "metadata": {},
   "outputs": [
    {
     "data": {
      "text/plain": [
       "[['india', 'malesiya', 'usa', 'china'],\n",
       " ['india', 'usa', 'china'],\n",
       " ['india', 'austrelia', 'usa', 'china'],\n",
       " ['india', 'brazil', 'london', 'usa', 'china'],\n",
       " ['india', 'brazil', 'china'],\n",
       " ['india', 'china']]"
      ]
     },
     "execution_count": 76,
     "metadata": {},
     "output_type": "execute_result"
    }
   ],
   "source": [
    "flight_net.get_paths('india','china')"
   ]
  },
  {
   "cell_type": "code",
   "execution_count": 69,
   "id": "0f8f6e21",
   "metadata": {},
   "outputs": [
    {
     "name": "stdout",
     "output_type": "stream",
     "text": [
      "path: ['india']\n",
      "path: ['india', 'malesiya']\n",
      "path: ['india', 'usa']\n",
      "path: ['india', 'austrelia']\n",
      "path: ['india', 'austrelia', 'usa']\n",
      "path: ['india', 'brazil']\n",
      "path: ['india', 'brazil', 'london']\n",
      "path: ['india', 'brazil', 'china']\n",
      "path: ['india', 'london']\n"
     ]
    },
    {
     "data": {
      "text/plain": [
       "[['india', 'usa'], ['india', 'austrelia', 'usa']]"
      ]
     },
     "execution_count": 69,
     "metadata": {},
     "output_type": "execute_result"
    }
   ],
   "source": [
    "flight_net.get_paths('india','usa')"
   ]
  },
  {
   "cell_type": "code",
   "execution_count": null,
   "id": "956ec93a",
   "metadata": {},
   "outputs": [],
   "source": []
  }
 ],
 "metadata": {
  "kernelspec": {
   "display_name": "Python 3 (ipykernel)",
   "language": "python",
   "name": "python3"
  },
  "language_info": {
   "codemirror_mode": {
    "name": "ipython",
    "version": 3
   },
   "file_extension": ".py",
   "mimetype": "text/x-python",
   "name": "python",
   "nbconvert_exporter": "python",
   "pygments_lexer": "ipython3",
   "version": "3.11.3"
  }
 },
 "nbformat": 4,
 "nbformat_minor": 5
}
