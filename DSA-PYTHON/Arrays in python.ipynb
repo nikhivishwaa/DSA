{
 "cells": [
  {
   "cell_type": "markdown",
   "id": "22ae8ea0-3d9c-4b07-8446-831200c178fb",
   "metadata": {},
   "source": [
    "### Array"
   ]
  },
  {
   "cell_type": "markdown",
   "id": "6d906a66-3fb7-40a4-8cd9-ce5ba9ae071f",
   "metadata": {},
   "source": [
    "<p>array is not a builtin datatype in python so we have to import it from array module, there is an array class. this array is growable and contains limited types of homogenous values</p>"
   ]
  },
  {
   "cell_type": "code",
   "execution_count": 3,
   "id": "8569105b-ce6f-4fda-90be-fb6768c0dd18",
   "metadata": {},
   "outputs": [],
   "source": [
    "import array"
   ]
  },
  {
   "cell_type": "code",
   "execution_count": 4,
   "id": "8ada4894-a556-4e22-a421-e71fa75ce715",
   "metadata": {},
   "outputs": [
    {
     "data": {
      "text/plain": [
       "array.array"
      ]
     },
     "execution_count": 4,
     "metadata": {},
     "output_type": "execute_result"
    }
   ],
   "source": [
    "arr = array.array('b',[5,-7,9]) # signed interger of 1 byte\n",
    "type(arr)"
   ]
  },
  {
   "cell_type": "code",
   "execution_count": 5,
   "id": "611c699f-c25f-449e-9a0d-641e83fe73d1",
   "metadata": {},
   "outputs": [
    {
     "name": "stdout",
     "output_type": "stream",
     "text": [
      "array('b', [5, -7, 9])\n"
     ]
    },
    {
     "data": {
      "text/plain": [
       "1"
      ]
     },
     "execution_count": 5,
     "metadata": {},
     "output_type": "execute_result"
    }
   ],
   "source": [
    "print(arr)\n",
    "arr.itemsize"
   ]
  },
  {
   "cell_type": "code",
   "execution_count": 6,
   "id": "f834fb0b-987c-4d79-94c5-01ed276b0e12",
   "metadata": {},
   "outputs": [
    {
     "name": "stdout",
     "output_type": "stream",
     "text": [
      "array('B', [5, 7, 9])\n"
     ]
    },
    {
     "data": {
      "text/plain": [
       "1"
      ]
     },
     "execution_count": 6,
     "metadata": {},
     "output_type": "execute_result"
    }
   ],
   "source": [
    "arrB = array.array('B',[5,7,9]) # unsigned interger of 1 byte\n",
    "print(arrB)\n",
    "arrB.itemsize"
   ]
  },
  {
   "cell_type": "code",
   "execution_count": 7,
   "id": "2e9e1e6a-4dd1-498b-8da9-79a49e039731",
   "metadata": {},
   "outputs": [
    {
     "name": "stdout",
     "output_type": "stream",
     "text": [
      "array('h', [-5, 7, 9])\n"
     ]
    },
    {
     "data": {
      "text/plain": [
       "2"
      ]
     },
     "execution_count": 7,
     "metadata": {},
     "output_type": "execute_result"
    }
   ],
   "source": [
    "arrh = array.array('h',[-5,7,9]) # signed interger of 2 byte\n",
    "print(arrh)\n",
    "arrh.itemsize"
   ]
  },
  {
   "cell_type": "code",
   "execution_count": 8,
   "id": "440e5833-12a8-4e23-9054-85b6c9d8290f",
   "metadata": {},
   "outputs": [
    {
     "name": "stdout",
     "output_type": "stream",
     "text": [
      "array('H', [5, 7, 9])\n"
     ]
    },
    {
     "data": {
      "text/plain": [
       "2"
      ]
     },
     "execution_count": 8,
     "metadata": {},
     "output_type": "execute_result"
    }
   ],
   "source": [
    "arrH = array.array('H',[5,7,9]) # unsigned interger of 2 byte\n",
    "print(arrH)\n",
    "arrH.itemsize"
   ]
  },
  {
   "cell_type": "code",
   "execution_count": 9,
   "id": "f0418aae-58c5-437e-a084-422fec80b482",
   "metadata": {},
   "outputs": [
    {
     "name": "stdout",
     "output_type": "stream",
     "text": [
      "array('l', [-5, 7, 9])\n"
     ]
    },
    {
     "data": {
      "text/plain": [
       "4"
      ]
     },
     "execution_count": 9,
     "metadata": {},
     "output_type": "execute_result"
    }
   ],
   "source": [
    "arrl = array.array('l',[-5,7,9]) # signed interger of 4 byte\n",
    "print(arrl)\n",
    "arrl.itemsize"
   ]
  },
  {
   "cell_type": "code",
   "execution_count": 10,
   "id": "5e8bcbd9-776f-4e86-86af-7e1bba2621b2",
   "metadata": {},
   "outputs": [
    {
     "name": "stdout",
     "output_type": "stream",
     "text": [
      "array('L', [5, 7, 9])\n"
     ]
    },
    {
     "data": {
      "text/plain": [
       "4"
      ]
     },
     "execution_count": 10,
     "metadata": {},
     "output_type": "execute_result"
    }
   ],
   "source": [
    "arrL = array.array('L',[5,7,9]) # unsigned interger of 4 byte\n",
    "print(arrL)\n",
    "arrL.itemsize"
   ]
  },
  {
   "cell_type": "code",
   "execution_count": 11,
   "id": "b60b8524-66f0-4a5c-b1bc-b1e103c9c8eb",
   "metadata": {},
   "outputs": [
    {
     "name": "stdout",
     "output_type": "stream",
     "text": [
      "array('q', [-5, 7, 9])\n"
     ]
    },
    {
     "data": {
      "text/plain": [
       "8"
      ]
     },
     "execution_count": 11,
     "metadata": {},
     "output_type": "execute_result"
    }
   ],
   "source": [
    "arrq = array.array('q',[-5,7,9]) # signed interger of 8 byte\n",
    "print(arrq)\n",
    "arrq.itemsize"
   ]
  },
  {
   "cell_type": "code",
   "execution_count": 12,
   "id": "f9d2991b-3e22-44c8-ac3c-f09b9a50e1a8",
   "metadata": {},
   "outputs": [
    {
     "name": "stdout",
     "output_type": "stream",
     "text": [
      "array('Q', [5, 7, 9])\n"
     ]
    },
    {
     "data": {
      "text/plain": [
       "8"
      ]
     },
     "execution_count": 12,
     "metadata": {},
     "output_type": "execute_result"
    }
   ],
   "source": [
    "arrQ = array.array('Q',[5,7,9]) # unsigned interger of 4 byte\n",
    "print(arrQ)\n",
    "arrQ.itemsize"
   ]
  },
  {
   "cell_type": "code",
   "execution_count": 13,
   "id": "f0264585-c666-4dec-a04e-109112197187",
   "metadata": {},
   "outputs": [
    {
     "name": "stdout",
     "output_type": "stream",
     "text": [
      "array('u', 'aX9')\n"
     ]
    },
    {
     "data": {
      "text/plain": [
       "2"
      ]
     },
     "execution_count": 13,
     "metadata": {},
     "output_type": "execute_result"
    }
   ],
   "source": [
    "arru = array.array('u',['a','X','9']) # unicode character of 2 byte\n",
    "print(arru)\n",
    "arru.itemsize"
   ]
  },
  {
   "cell_type": "code",
   "execution_count": 14,
   "id": "a5237a62-401d-43a9-a459-617efcec05e5",
   "metadata": {},
   "outputs": [
    {
     "data": {
      "text/plain": [
       "array('f', [1.0, 5.0, 6.0])"
      ]
     },
     "execution_count": 14,
     "metadata": {},
     "output_type": "execute_result"
    }
   ],
   "source": [
    "arr1 = array.array('f',[1,5,6]) # float 4 byte\n",
    "arr1"
   ]
  },
  {
   "cell_type": "code",
   "execution_count": 15,
   "id": "4ab2cef1-cd09-4726-822a-881c6cf73000",
   "metadata": {},
   "outputs": [
    {
     "data": {
      "text/plain": [
       "4"
      ]
     },
     "execution_count": 15,
     "metadata": {},
     "output_type": "execute_result"
    }
   ],
   "source": [
    "arr1.itemsize"
   ]
  },
  {
   "cell_type": "code",
   "execution_count": 16,
   "id": "fd50a372-593f-43d8-bd02-e84c4699585c",
   "metadata": {},
   "outputs": [
    {
     "data": {
      "text/plain": [
       "array('d', [1.0, 5.9754213, 6.0])"
      ]
     },
     "execution_count": 16,
     "metadata": {},
     "output_type": "execute_result"
    }
   ],
   "source": [
    "arr2 = array.array('d',[1,5.9754213,6]) # float (double) 8 byte\n",
    "arr2"
   ]
  },
  {
   "cell_type": "code",
   "execution_count": 17,
   "id": "5c8f1fb8-b438-4579-9a47-9100da65dd91",
   "metadata": {},
   "outputs": [
    {
     "data": {
      "text/plain": [
       "8"
      ]
     },
     "execution_count": 17,
     "metadata": {},
     "output_type": "execute_result"
    }
   ],
   "source": [
    "arr2.itemsize"
   ]
  },
  {
   "cell_type": "code",
   "execution_count": 18,
   "id": "8c92b750-5785-48ee-b681-7ba3c2f2a6a8",
   "metadata": {},
   "outputs": [
    {
     "data": {
      "text/plain": [
       "array('d', [1.0, 5.9754213, 6.0, 10.9])"
      ]
     },
     "execution_count": 18,
     "metadata": {},
     "output_type": "execute_result"
    }
   ],
   "source": [
    "arr2.append(10.9)\n",
    "arr2"
   ]
  },
  {
   "cell_type": "code",
   "execution_count": 19,
   "id": "e3919c15-a405-4d27-83a5-838d70253c35",
   "metadata": {},
   "outputs": [
    {
     "data": {
      "text/plain": [
       "10.9"
      ]
     },
     "execution_count": 19,
     "metadata": {},
     "output_type": "execute_result"
    }
   ],
   "source": [
    "arr2.pop() # pop the last element"
   ]
  },
  {
   "cell_type": "code",
   "execution_count": 20,
   "id": "f0903026-e9c6-4f37-a0ca-676ae12476ff",
   "metadata": {},
   "outputs": [
    {
     "data": {
      "text/plain": [
       "array('d', [1.0, 5.9754213, 6.0])"
      ]
     },
     "execution_count": 20,
     "metadata": {},
     "output_type": "execute_result"
    }
   ],
   "source": [
    "arr2"
   ]
  },
  {
   "cell_type": "code",
   "execution_count": 21,
   "id": "e69f4f4a-5ab5-4b6c-aef2-a9706ab61938",
   "metadata": {},
   "outputs": [
    {
     "data": {
      "text/plain": [
       "5.9754213"
      ]
     },
     "execution_count": 21,
     "metadata": {},
     "output_type": "execute_result"
    }
   ],
   "source": [
    "arr2.pop(1) # pop specified index value"
   ]
  },
  {
   "cell_type": "code",
   "execution_count": 22,
   "id": "dad73b9d-8806-4465-8dcc-98a6b6c8144f",
   "metadata": {},
   "outputs": [
    {
     "data": {
      "text/plain": [
       "array('d', [1.0, 6.0])"
      ]
     },
     "execution_count": 22,
     "metadata": {},
     "output_type": "execute_result"
    }
   ],
   "source": [
    "arr2"
   ]
  },
  {
   "cell_type": "code",
   "execution_count": 23,
   "id": "61d1aa68-775e-4e69-be84-dd12d24233af",
   "metadata": {},
   "outputs": [],
   "source": [
    "arr2.remove(1.0) # remove specified value from array"
   ]
  },
  {
   "cell_type": "code",
   "execution_count": 24,
   "id": "9c430eae-3fc9-4a75-83f8-aab2c66aaaa3",
   "metadata": {},
   "outputs": [
    {
     "data": {
      "text/plain": [
       "array('d', [6.0])"
      ]
     },
     "execution_count": 24,
     "metadata": {},
     "output_type": "execute_result"
    }
   ],
   "source": [
    "arr2"
   ]
  },
  {
   "cell_type": "code",
   "execution_count": 25,
   "id": "7e63eae4-5e54-4eab-b4b4-7d71e0c41118",
   "metadata": {},
   "outputs": [
    {
     "ename": "ValueError",
     "evalue": "array.remove(x): x not in array",
     "output_type": "error",
     "traceback": [
      "\u001b[1;31m---------------------------------------------------------------------------\u001b[0m",
      "\u001b[1;31mValueError\u001b[0m                                Traceback (most recent call last)",
      "Cell \u001b[1;32mIn[25], line 1\u001b[0m\n\u001b[1;32m----> 1\u001b[0m \u001b[43marr2\u001b[49m\u001b[38;5;241;43m.\u001b[39;49m\u001b[43mremove\u001b[49m\u001b[43m(\u001b[49m\u001b[38;5;241;43m1.0\u001b[39;49m\u001b[43m)\u001b[49m \u001b[38;5;66;03m# throw error if the value is not exist in the array\u001b[39;00m\n",
      "\u001b[1;31mValueError\u001b[0m: array.remove(x): x not in array"
     ]
    }
   ],
   "source": [
    "arr2.remove(1.0) # throw error if the value is not exist in the array"
   ]
  },
  {
   "cell_type": "code",
   "execution_count": 26,
   "id": "ac1f8c55-ddb3-43af-94c5-ec602b55e223",
   "metadata": {},
   "outputs": [],
   "source": [
    "arr.reverse()"
   ]
  },
  {
   "cell_type": "code",
   "execution_count": 28,
   "id": "37e2f630-2703-4d3e-95bf-52d3356122aa",
   "metadata": {},
   "outputs": [
    {
     "data": {
      "text/plain": [
       "array('b', [9, -7, 5])"
      ]
     },
     "execution_count": 28,
     "metadata": {},
     "output_type": "execute_result"
    }
   ],
   "source": [
    "arr"
   ]
  },
  {
   "cell_type": "code",
   "execution_count": 30,
   "id": "c279312c-4e2b-4d15-acec-69a07dbca4bf",
   "metadata": {},
   "outputs": [
    {
     "data": {
      "text/plain": [
       "(2271393764784, 3)"
      ]
     },
     "execution_count": 30,
     "metadata": {},
     "output_type": "execute_result"
    }
   ],
   "source": [
    "arr.buffer_info()"
   ]
  },
  {
   "cell_type": "code",
   "execution_count": 32,
   "id": "e8cab003-3d65-4465-90de-0287f18f1447",
   "metadata": {},
   "outputs": [],
   "source": [
    "arr.byteswap()"
   ]
  },
  {
   "cell_type": "code",
   "execution_count": 34,
   "id": "a4db3fa6-a0a5-4a15-881e-5c8ec27fa8f0",
   "metadata": {},
   "outputs": [
    {
     "data": {
      "text/plain": [
       "array('b', [9, -7, 5])"
      ]
     },
     "execution_count": 34,
     "metadata": {},
     "output_type": "execute_result"
    }
   ],
   "source": [
    "arr"
   ]
  },
  {
   "cell_type": "code",
   "execution_count": 36,
   "id": "8098ba4a-2f56-4842-a633-83951eb742f4",
   "metadata": {},
   "outputs": [
    {
     "data": {
      "text/plain": [
       "1"
      ]
     },
     "execution_count": 36,
     "metadata": {},
     "output_type": "execute_result"
    }
   ],
   "source": [
    "arr.count(9)"
   ]
  },
  {
   "cell_type": "code",
   "execution_count": 38,
   "id": "d86d8dfb-3243-40c9-8ff4-f35873127443",
   "metadata": {},
   "outputs": [
    {
     "data": {
      "text/plain": [
       "b'\\t\\xf9\\x05'"
      ]
     },
     "execution_count": 38,
     "metadata": {},
     "output_type": "execute_result"
    }
   ],
   "source": [
    "arr.tobytes()"
   ]
  },
  {
   "cell_type": "code",
   "execution_count": 40,
   "id": "9bc7da2f-7e9e-4b06-8d68-f9981f5e0b0b",
   "metadata": {},
   "outputs": [
    {
     "data": {
      "text/plain": [
       "[9, -7, 5]"
      ]
     },
     "execution_count": 40,
     "metadata": {},
     "output_type": "execute_result"
    }
   ],
   "source": [
    "arr.tolist()"
   ]
  },
  {
   "cell_type": "code",
   "execution_count": 46,
   "id": "61652937-ff48-4790-bcd2-1fad0091ac98",
   "metadata": {},
   "outputs": [],
   "source": [
    "arr.extend(arr)"
   ]
  },
  {
   "cell_type": "code",
   "execution_count": 48,
   "id": "38120eeb-df95-42dc-9c39-07e7b306dfeb",
   "metadata": {},
   "outputs": [
    {
     "data": {
      "text/plain": [
       "array('b', [9, -7, 5, 9, -7, 5])"
      ]
     },
     "execution_count": 48,
     "metadata": {},
     "output_type": "execute_result"
    }
   ],
   "source": [
    "arr"
   ]
  },
  {
   "cell_type": "markdown",
   "id": "917ca1ae-b900-41da-88b8-e44f203c3e8c",
   "metadata": {},
   "source": [
    "### To overcome drawbacks of array we use the array from numpy as it is of fixed size"
   ]
  },
  {
   "cell_type": "code",
   "execution_count": 51,
   "id": "5259cab5-57af-4e75-94d9-f642f918b2aa",
   "metadata": {},
   "outputs": [
    {
     "data": {
      "text/plain": [
       "array([5, 5, 6])"
      ]
     },
     "execution_count": 51,
     "metadata": {},
     "output_type": "execute_result"
    }
   ],
   "source": [
    "import numpy as np\n",
    "\n",
    "a = np.array([5,5,6])\n",
    "a"
   ]
  },
  {
   "cell_type": "code",
   "execution_count": 53,
   "id": "926d0dfd-5bd5-4063-80c3-1f3676549b42",
   "metadata": {},
   "outputs": [
    {
     "name": "stdout",
     "output_type": "stream",
     "text": [
      "(2, 3)\n"
     ]
    },
    {
     "data": {
      "text/plain": [
       "array([[ 5,  6,  7],\n",
       "       [ 8,  9, 10]])"
      ]
     },
     "execution_count": 53,
     "metadata": {},
     "output_type": "execute_result"
    }
   ],
   "source": [
    "a1 = np.array([[5,6,7],[8,9,10]])\n",
    "print(a1.shape)\n",
    "a1"
   ]
  },
  {
   "cell_type": "code",
   "execution_count": null,
   "id": "402f92a1-2aa6-43d4-a117-2b6825919db2",
   "metadata": {},
   "outputs": [],
   "source": []
  }
 ],
 "metadata": {
  "kernelspec": {
   "display_name": "Python 3 (ipykernel)",
   "language": "python",
   "name": "python3"
  },
  "language_info": {
   "codemirror_mode": {
    "name": "ipython",
    "version": 3
   },
   "file_extension": ".py",
   "mimetype": "text/x-python",
   "name": "python",
   "nbconvert_exporter": "python",
   "pygments_lexer": "ipython3",
   "version": "3.12.7"
  }
 },
 "nbformat": 4,
 "nbformat_minor": 5
}
