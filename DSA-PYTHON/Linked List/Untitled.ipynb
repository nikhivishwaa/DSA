{
 "cells": [
  {
   "cell_type": "code",
   "execution_count": 1,
   "id": "2957c480",
   "metadata": {},
   "outputs": [],
   "source": [
    "class Node:\n",
    "    def __init__(self, data, link=None):\n",
    "        self.data = data\n",
    "        self.link = link"
   ]
  },
  {
   "cell_type": "code",
   "execution_count": 252,
   "id": "328308dd",
   "metadata": {},
   "outputs": [],
   "source": [
    "class LinkedList:\n",
    "    def __init__(self):\n",
    "        self.head = None\n",
    "        self.length = 0\n",
    "        \n",
    "    def insert_at_beginning(self, data):\n",
    "        node = Node(data, self.head)\n",
    "        self.head = node\n",
    "        self.length += 1\n",
    "        \n",
    "    def insert_between(self, data, pos):\n",
    "        if pos<0 or pos > self.length + 1:\n",
    "            raise Exception('pos out of range 0-'+str(self.length+1))\n",
    "        \n",
    "        elif pos == 1:\n",
    "            self.insert_at_beginning(data)\n",
    "            \n",
    "        elif pos == self.length + 1:\n",
    "            self.insert_in_end(data)\n",
    "        \n",
    "        else:\n",
    "            end = self.head.link\n",
    "            prev = self.head\n",
    "            while pos-2 > 0:\n",
    "                prev = end\n",
    "                end = end.link\n",
    "                pos -= 1\n",
    "            \n",
    "            node = Node(data, end)\n",
    "            prev.link = node\n",
    "            self.length += 1\n",
    "            \n",
    "    def delete_first(self):\n",
    "        if self.head is None:\n",
    "            print('underflow')  \n",
    "        else:\n",
    "            self.head = self.head.link if self.length > 1 else None\n",
    "            self.length -= 1\n",
    "        \n",
    "    def insert_in_end(self, data):\n",
    "        if self.head is None:\n",
    "            self.insert_at_beginning(data)    \n",
    "        else:\n",
    "            node = Node(data)\n",
    "            end = self.head\n",
    "            while end.link is not None:\n",
    "                end = end.link\n",
    "                \n",
    "            end.link = node\n",
    "            self.length += 1\n",
    "            \n",
    "    def delete_last(self):\n",
    "        if self.length in (0,1):\n",
    "            self.delete_first()\n",
    "        else:\n",
    "            end = self.head.link\n",
    "            prev = self.head\n",
    "            while end.link is not None:\n",
    "                prev = end\n",
    "                end = end.link\n",
    "                \n",
    "            prev.link = None\n",
    "            self.length -= 1\n",
    "            \n",
    "    def delete_between(self, pos):\n",
    "        if pos<1 or pos > self.length:\n",
    "            raise Exception('pos out of range 0-'+str(self.length+1))\n",
    "        \n",
    "        elif pos == 1:\n",
    "            self.delete_first()\n",
    "            \n",
    "        elif pos == self.length:\n",
    "            self.delete_last()\n",
    "        \n",
    "        else:\n",
    "            end = self.head.link\n",
    "            prev = self.head\n",
    "            while pos-2 > 0:\n",
    "                prev = end\n",
    "                end = end.link\n",
    "                pos -= 1\n",
    "            \n",
    "            node = end\n",
    "            prev.link = end.link\n",
    "            self.length -= 1\n",
    "            \n",
    "    def print_linkedlist(self):\n",
    "        if self.length == 0:\n",
    "            print('underflow') \n",
    "        \n",
    "        else:\n",
    "            end = self.head\n",
    "            while end is not None:\n",
    "                print(end.data,end=' -->')\n",
    "                end = end.link\n",
    "                \n",
    "    def get_length(self):\n",
    "        count = 0\n",
    "        end = self.head\n",
    "        while end is not None:\n",
    "            end = end.link\n",
    "            count += 1\n",
    "            \n",
    "        self.length = count\n",
    "        return count"
   ]
  },
  {
   "cell_type": "code",
   "execution_count": 253,
   "id": "58315808",
   "metadata": {},
   "outputs": [],
   "source": [
    "ll = LinkedList()"
   ]
  },
  {
   "cell_type": "code",
   "execution_count": 254,
   "id": "121cc3d1",
   "metadata": {},
   "outputs": [
    {
     "name": "stdout",
     "output_type": "stream",
     "text": [
      "underflow\n"
     ]
    }
   ],
   "source": [
    "ll.print_linkedlist()"
   ]
  },
  {
   "cell_type": "code",
   "execution_count": 255,
   "id": "45ae35f9",
   "metadata": {},
   "outputs": [
    {
     "name": "stdout",
     "output_type": "stream",
     "text": [
      "52 -->"
     ]
    }
   ],
   "source": [
    "ll.insert_at_beginning(52)\n",
    "ll.print_linkedlist()"
   ]
  },
  {
   "cell_type": "code",
   "execution_count": 256,
   "id": "b6c9232a",
   "metadata": {},
   "outputs": [
    {
     "name": "stdout",
     "output_type": "stream",
     "text": [
      "52 -->25 -->"
     ]
    }
   ],
   "source": [
    "ll.insert_between(25,2)\n",
    "ll.print_linkedlist()"
   ]
  },
  {
   "cell_type": "code",
   "execution_count": 257,
   "id": "d2147478",
   "metadata": {},
   "outputs": [
    {
     "name": "stdout",
     "output_type": "stream",
     "text": [
      "1 -->52 -->25 -->"
     ]
    }
   ],
   "source": [
    "ll.insert_between(1,1)\n",
    "ll.print_linkedlist()"
   ]
  },
  {
   "cell_type": "code",
   "execution_count": 258,
   "id": "33dcf95f",
   "metadata": {},
   "outputs": [
    {
     "name": "stdout",
     "output_type": "stream",
     "text": [
      "1 -->52 -->62 -->25 -->"
     ]
    }
   ],
   "source": [
    "ll.insert_between(62,3)\n",
    "ll.print_linkedlist()"
   ]
  },
  {
   "cell_type": "code",
   "execution_count": 259,
   "id": "186f57db",
   "metadata": {},
   "outputs": [
    {
     "name": "stdout",
     "output_type": "stream",
     "text": [
      "1 -->52 -->13 -->62 -->25 -->"
     ]
    }
   ],
   "source": [
    "ll.insert_between(13,3)\n",
    "ll.print_linkedlist()"
   ]
  },
  {
   "cell_type": "code",
   "execution_count": 260,
   "id": "78d71af3",
   "metadata": {},
   "outputs": [
    {
     "name": "stdout",
     "output_type": "stream",
     "text": [
      "1 -->45 -->52 -->13 -->62 -->25 -->"
     ]
    }
   ],
   "source": [
    "ll.insert_between(45,2)\n",
    "ll.print_linkedlist()"
   ]
  },
  {
   "cell_type": "code",
   "execution_count": 261,
   "id": "de95ab9f",
   "metadata": {},
   "outputs": [
    {
     "name": "stdout",
     "output_type": "stream",
     "text": [
      "1 -->45 -->6 -->52 -->13 -->62 -->25 -->"
     ]
    }
   ],
   "source": [
    "ll.insert_between(6,3)\n",
    "ll.print_linkedlist()"
   ]
  },
  {
   "cell_type": "code",
   "execution_count": 262,
   "id": "6adb5a50",
   "metadata": {},
   "outputs": [
    {
     "name": "stdout",
     "output_type": "stream",
     "text": [
      "1 -->45 -->6 -->52 -->13 -->62 -->14 -->25 -->"
     ]
    }
   ],
   "source": [
    "ll.insert_between(14,7)\n",
    "ll.print_linkedlist()"
   ]
  },
  {
   "cell_type": "code",
   "execution_count": 263,
   "id": "d1331a7b",
   "metadata": {},
   "outputs": [
    {
     "name": "stdout",
     "output_type": "stream",
     "text": [
      "1 -->45 -->6 -->52 -->13 -->62 -->14 -->25 -->24 -->"
     ]
    }
   ],
   "source": [
    "ll.insert_between(24,9)\n",
    "ll.print_linkedlist()"
   ]
  },
  {
   "cell_type": "code",
   "execution_count": 264,
   "id": "642a8956",
   "metadata": {},
   "outputs": [
    {
     "name": "stdout",
     "output_type": "stream",
     "text": [
      "45 -->6 -->52 -->13 -->62 -->14 -->25 -->24 -->"
     ]
    }
   ],
   "source": [
    "ll.delete_first()\n",
    "ll.print_linkedlist()"
   ]
  },
  {
   "cell_type": "code",
   "execution_count": 265,
   "id": "4e3145bd",
   "metadata": {},
   "outputs": [
    {
     "name": "stdout",
     "output_type": "stream",
     "text": [
      "45 -->6 -->52 -->13 -->62 -->14 -->25 -->"
     ]
    }
   ],
   "source": [
    "ll.delete_last()\n",
    "ll.print_linkedlist()"
   ]
  },
  {
   "cell_type": "code",
   "execution_count": 267,
   "id": "71ba677d",
   "metadata": {},
   "outputs": [
    {
     "name": "stdout",
     "output_type": "stream",
     "text": [
      "6 -->52 -->13 -->62 -->14 -->25 -->"
     ]
    }
   ],
   "source": [
    "ll.delete_between(1)\n",
    "ll.print_linkedlist()"
   ]
  },
  {
   "cell_type": "code",
   "execution_count": 269,
   "id": "ba0c9dc6",
   "metadata": {},
   "outputs": [
    {
     "name": "stdout",
     "output_type": "stream",
     "text": [
      "6 -->52 -->13 -->62 -->14 -->"
     ]
    }
   ],
   "source": [
    "ll.delete_between(6)\n",
    "ll.print_linkedlist()"
   ]
  },
  {
   "cell_type": "code",
   "execution_count": 270,
   "id": "f5175455",
   "metadata": {},
   "outputs": [
    {
     "name": "stdout",
     "output_type": "stream",
     "text": [
      "6 -->13 -->62 -->14 -->"
     ]
    }
   ],
   "source": [
    "ll.delete_between(2)\n",
    "ll.print_linkedlist()"
   ]
  },
  {
   "cell_type": "code",
   "execution_count": 271,
   "id": "3d7b34d4",
   "metadata": {},
   "outputs": [
    {
     "name": "stdout",
     "output_type": "stream",
     "text": [
      "6 -->13 -->14 -->"
     ]
    }
   ],
   "source": [
    "ll.delete_between(3)\n",
    "ll.print_linkedlist()"
   ]
  },
  {
   "cell_type": "code",
   "execution_count": 272,
   "id": "7fd0e923",
   "metadata": {},
   "outputs": [
    {
     "name": "stdout",
     "output_type": "stream",
     "text": [
      "6 -->14 -->"
     ]
    }
   ],
   "source": [
    "ll.delete_between(2)\n",
    "ll.print_linkedlist()"
   ]
  },
  {
   "cell_type": "code",
   "execution_count": 273,
   "id": "5ea0e02c",
   "metadata": {},
   "outputs": [
    {
     "name": "stdout",
     "output_type": "stream",
     "text": [
      "6 -->"
     ]
    }
   ],
   "source": [
    "ll.delete_between(2)\n",
    "ll.print_linkedlist()"
   ]
  },
  {
   "cell_type": "code",
   "execution_count": 274,
   "id": "1ca9f06e",
   "metadata": {},
   "outputs": [
    {
     "name": "stdout",
     "output_type": "stream",
     "text": [
      "6 -->12 -->"
     ]
    }
   ],
   "source": [
    "ll.insert_between(12,2)\n",
    "ll.print_linkedlist()"
   ]
  },
  {
   "cell_type": "code",
   "execution_count": null,
   "id": "e654cef4",
   "metadata": {},
   "outputs": [],
   "source": []
  }
 ],
 "metadata": {
  "kernelspec": {
   "display_name": "Python 3 (ipykernel)",
   "language": "python",
   "name": "python3"
  },
  "language_info": {
   "codemirror_mode": {
    "name": "ipython",
    "version": 3
   },
   "file_extension": ".py",
   "mimetype": "text/x-python",
   "name": "python",
   "nbconvert_exporter": "python",
   "pygments_lexer": "ipython3",
   "version": "3.11.3"
  }
 },
 "nbformat": 4,
 "nbformat_minor": 5
}
