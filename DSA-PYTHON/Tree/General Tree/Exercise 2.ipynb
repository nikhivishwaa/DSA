{
 "cells": [
  {
   "cell_type": "markdown",
   "id": "ab779cd6",
   "metadata": {},
   "source": [
    "# Exercise 2"
   ]
  },
  {
   "cell_type": "code",
   "execution_count": 38,
   "id": "11b73389",
   "metadata": {},
   "outputs": [],
   "source": [
    "class TreeNode:\n",
    "    def __init__(self, location):\n",
    "        self.location = location.capitalize()\n",
    "        self.parent = None\n",
    "        self.children = []\n",
    "    \n",
    "    def __str__(self):\n",
    "        return self.location\n",
    "    \n",
    "    def add_child(self, child):\n",
    "        child.parent = self\n",
    "        self.children.append(child)\n",
    "        \n",
    "    def add_multi_child(self, *childrens):\n",
    "        for child in childrens:\n",
    "            self.add_child(child)\n",
    "        \n",
    "    def print_child(self, param, level=\"\"):\n",
    "        print(f'{self.location}') if not self.parent else print(f'{level}--| {self.location}')\n",
    "        if self.children and level.count('\\t') < param:\n",
    "            for child in self.children:\n",
    "                child.print_child(param,f'{level}\\t')\n",
    "                                \n",
    "    def delete_child(self):\n",
    "        pass\n",
    "    "
   ]
  },
  {
   "cell_type": "code",
   "execution_count": 39,
   "id": "1baa6a8f",
   "metadata": {},
   "outputs": [],
   "source": [
    "def create_tree(tree_description):\n",
    "    if isinstance(tree_description, str):\n",
    "        node = TreeNode(tree_description)\n",
    "        return node\n",
    "    \n",
    "    elif isinstance(tree_description, dict):\n",
    "        siblings = []\n",
    "        for parent, child in tree_description.items(): \n",
    "            root = TreeNode(parent)\n",
    "            child_nodes = create_tree(child)\n",
    "            root.add_child(child_nodes) if isinstance(child_nodes, TreeNode) == 1 else root.add_multi_child(*child_nodes)\n",
    "            siblings.append(root)\n",
    "\n",
    "        return siblings[0] if len(siblings) == 1 else siblings\n",
    "\n",
    "    elif isinstance(tree_description, list):\n",
    "        child_nodes = [] \n",
    "        for childs in tree_description:\n",
    "            childrens = create_tree(childs)\n",
    "            child_nodes.append(childrens)\n",
    "            \n",
    "        return child_nodes[0] if len(child_nodes) == 1 else child_nodes"
   ]
  },
  {
   "cell_type": "code",
   "execution_count": 40,
   "id": "886eb83d",
   "metadata": {},
   "outputs": [],
   "source": [
    "x = {'a':[{'b':['c','d','e']},{'f':{'e':['i',{'g':['k','l']},'m','n']}},{'o':['p']},{'q':['r','s']}, {'x':'z'}]}"
   ]
  },
  {
   "cell_type": "code",
   "execution_count": 41,
   "id": "381ed9fc",
   "metadata": {},
   "outputs": [],
   "source": [
    "locations = create_tree(x)"
   ]
  },
  {
   "cell_type": "code",
   "execution_count": 42,
   "id": "f2c05301",
   "metadata": {},
   "outputs": [
    {
     "name": "stdout",
     "output_type": "stream",
     "text": [
      "A\n",
      "\t--| B\n",
      "\t--| F\n",
      "\t--| O\n",
      "\t--| Q\n",
      "\t--| X\n"
     ]
    }
   ],
   "source": [
    "locations.print_child(1)"
   ]
  },
  {
   "cell_type": "code",
   "execution_count": 43,
   "id": "ac6ad4cd",
   "metadata": {},
   "outputs": [
    {
     "name": "stdout",
     "output_type": "stream",
     "text": [
      "A\n",
      "\t--| B\n",
      "\t\t--| C\n",
      "\t\t--| D\n",
      "\t\t--| E\n",
      "\t--| F\n",
      "\t\t--| E\n",
      "\t\t\t--| I\n",
      "\t\t\t--| G\n",
      "\t\t\t\t--| K\n",
      "\t\t\t\t--| L\n",
      "\t\t\t--| M\n",
      "\t\t\t--| N\n",
      "\t--| O\n",
      "\t\t--| P\n",
      "\t--| Q\n",
      "\t\t--| R\n",
      "\t\t--| S\n",
      "\t--| X\n",
      "\t\t--| Z\n"
     ]
    }
   ],
   "source": [
    "locations.print_child(100)"
   ]
  },
  {
   "cell_type": "code",
   "execution_count": null,
   "id": "b480fde6",
   "metadata": {},
   "outputs": [],
   "source": []
  }
 ],
 "metadata": {
  "kernelspec": {
   "display_name": "Python 3 (ipykernel)",
   "language": "python",
   "name": "python3"
  },
  "language_info": {
   "codemirror_mode": {
    "name": "ipython",
    "version": 3
   },
   "file_extension": ".py",
   "mimetype": "text/x-python",
   "name": "python",
   "nbconvert_exporter": "python",
   "pygments_lexer": "ipython3",
   "version": "3.11.3"
  }
 },
 "nbformat": 4,
 "nbformat_minor": 5
}
