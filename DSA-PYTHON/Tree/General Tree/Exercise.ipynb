{
 "cells": [
  {
   "cell_type": "code",
   "execution_count": 18,
   "id": "fc918a6d",
   "metadata": {},
   "outputs": [],
   "source": [
    "class TreeNode:\n",
    "    def __init__(self, name, designation):\n",
    "        self.name = name.capitalize()\n",
    "        self.designation = designation.upper()\n",
    "        self.parent = None\n",
    "        self.children = []\n",
    "        \n",
    "    def add_child(self, child):\n",
    "        child.parent = self\n",
    "        self.children.append(child)\n",
    "        \n",
    "    def add_multi_child(self, *childrens):\n",
    "        for child in childrens:\n",
    "            self.add_child(child)\n",
    "        \n",
    "    def print_child(self, param, level=\"\"):\n",
    "        \n",
    "        match param:\n",
    "            case 'name':\n",
    "                print(f'{self.name}') if not self.parent else print(f'{level}--| {self.name}')\n",
    "            case 'designation':\n",
    "                print(f'{self.designation}') if not self.parent else print(f'{level}--| {self.designation}')\n",
    "            case _:\n",
    "                print(f'{self.name} ({self.designation})') if not self.parent else print(f'{level}--| {self.name} ({self.designation})')\n",
    "        if self.children:\n",
    "            for child in self.children:\n",
    "                child.print_child(param,f'{level}\\t')"
   ]
  },
  {
   "cell_type": "code",
   "execution_count": 19,
   "id": "3e11ea94",
   "metadata": {},
   "outputs": [],
   "source": [
    "def create_tree():\n",
    "    root = TreeNode('nilupul', 'ceo')\n",
    "    \n",
    "    cto = TreeNode('chinmay', 'cto')\n",
    "    hr_head = TreeNode('gels', 'hr head')\n",
    "    root.add_multi_child(cto, hr_head)\n",
    "    \n",
    "    infrastructure_head = TreeNode('vishwa', 'infrastructure head')\n",
    "    application_head = TreeNode('aamir', 'application head')\n",
    "    cto.add_multi_child(infrastructure_head, application_head)\n",
    "    \n",
    "    cloud_manager = TreeNode('dhaval', 'cloud manager')\n",
    "    app_manager = TreeNode('abhijit', 'app manager')\n",
    "    infrastructure_head.add_multi_child(cloud_manager, app_manager)\n",
    "    \n",
    "    \n",
    "    recruitement_manager = TreeNode('peter', 'recruitement manager')\n",
    "    policy_manager = TreeNode('waqas', 'policy manager')\n",
    "    hr_head.add_multi_child(recruitement_manager, policy_manager)\n",
    "    \n",
    "    return root"
   ]
  },
  {
   "cell_type": "code",
   "execution_count": 20,
   "id": "1b3fa48c",
   "metadata": {},
   "outputs": [],
   "source": [
    "root = create_tree()"
   ]
  },
  {
   "cell_type": "code",
   "execution_count": 21,
   "id": "80e3d362",
   "metadata": {},
   "outputs": [
    {
     "name": "stdout",
     "output_type": "stream",
     "text": [
      "Nilupul\n",
      "\t--| Chinmay\n",
      "\t\t--| Vishwa\n",
      "\t\t\t--| Dhaval\n",
      "\t\t\t--| Abhijit\n",
      "\t\t--| Aamir\n",
      "\t--| Gels\n",
      "\t\t--| Peter\n",
      "\t\t--| Waqas\n"
     ]
    }
   ],
   "source": [
    "root.print_child('name')"
   ]
  },
  {
   "cell_type": "code",
   "execution_count": 23,
   "id": "1ad557bb",
   "metadata": {},
   "outputs": [
    {
     "name": "stdout",
     "output_type": "stream",
     "text": [
      "CEO\n",
      "\t--| CTO\n",
      "\t\t--| INFRASTRUCTURE HEAD\n",
      "\t\t\t--| CLOUD MANAGER\n",
      "\t\t\t--| APP MANAGER\n",
      "\t\t--| APPLICATION HEAD\n",
      "\t--| HR HEAD\n",
      "\t\t--| RECRUITEMENT MANAGER\n",
      "\t\t--| POLICY MANAGER\n"
     ]
    }
   ],
   "source": [
    "root.print_child('designation')"
   ]
  },
  {
   "cell_type": "code",
   "execution_count": 24,
   "id": "fc244b00",
   "metadata": {},
   "outputs": [
    {
     "name": "stdout",
     "output_type": "stream",
     "text": [
      "Nilupul (CEO)\n",
      "\t--| Chinmay (CTO)\n",
      "\t\t--| Vishwa (INFRASTRUCTURE HEAD)\n",
      "\t\t\t--| Dhaval (CLOUD MANAGER)\n",
      "\t\t\t--| Abhijit (APP MANAGER)\n",
      "\t\t--| Aamir (APPLICATION HEAD)\n",
      "\t--| Gels (HR HEAD)\n",
      "\t\t--| Peter (RECRUITEMENT MANAGER)\n",
      "\t\t--| Waqas (POLICY MANAGER)\n"
     ]
    }
   ],
   "source": [
    "root.print_child('both')"
   ]
  },
  {
   "cell_type": "code",
   "execution_count": null,
   "id": "e318003b",
   "metadata": {},
   "outputs": [],
   "source": []
  }
 ],
 "metadata": {
  "kernelspec": {
   "display_name": "Python 3 (ipykernel)",
   "language": "python",
   "name": "python3"
  },
  "language_info": {
   "codemirror_mode": {
    "name": "ipython",
    "version": 3
   },
   "file_extension": ".py",
   "mimetype": "text/x-python",
   "name": "python",
   "nbconvert_exporter": "python",
   "pygments_lexer": "ipython3",
   "version": "3.11.3"
  }
 },
 "nbformat": 4,
 "nbformat_minor": 5
}
