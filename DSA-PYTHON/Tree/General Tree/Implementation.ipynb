{
 "cells": [
  {
   "cell_type": "markdown",
   "id": "cc66ac7d",
   "metadata": {},
   "source": [
    "# General Tree"
   ]
  },
  {
   "cell_type": "code",
   "execution_count": 36,
   "id": "bcfb6afe",
   "metadata": {},
   "outputs": [],
   "source": [
    "class TreeNode:\n",
    "    def __init__(self, data):\n",
    "        self.data = data.capitalize()\n",
    "        self.parent = None\n",
    "        self.children = []\n",
    "        \n",
    "    def __str__(self):\n",
    "        return self.data\n",
    "        \n",
    "    def add_child(self, child):\n",
    "        child.parent = self\n",
    "        self.children.append(child)\n",
    "        \n",
    "    def create_leaf(self, data):\n",
    "        child = TreeNode(data)\n",
    "        self.add_child(child)\n",
    "        print('child created with value', self)\n",
    "        \n",
    "    def print_child(self, level=\"\"):\n",
    "        print(self) if not self.parent else print(f'{level}--| {self}')\n",
    "        if self.children:\n",
    "            for child in self.children:\n",
    "                child.print_child(f'{level}\\t')"
   ]
  },
  {
   "cell_type": "code",
   "execution_count": 37,
   "id": "26f0ab52",
   "metadata": {},
   "outputs": [],
   "source": [
    "def add_multi_children(parent, children):\n",
    "    for child in children:\n",
    "        parent.add_child(child)\n",
    "        \n",
    "def create_tree():\n",
    "    root = TreeNode('electronics')\n",
    "    \n",
    "    mobile = TreeNode('mobile')    \n",
    "    laptop = TreeNode('laptop')\n",
    "    accesories = TreeNode('accesories')\n",
    "    \n",
    "    add_multi_children(root, [mobile, laptop, accesories])\n",
    "    \n",
    "    redmi = TreeNode('redmi')    \n",
    "    samsung = TreeNode('samsung')\n",
    "    iphone = TreeNode('iphone')\n",
    "    vivo = TreeNode('vivo')\n",
    "    \n",
    "    add_multi_children(mobile, [redmi, samsung, iphone, vivo])\n",
    "    \n",
    "    lenovo = TreeNode('lenovo')    \n",
    "    samsung = TreeNode('samsung')\n",
    "    macbook = TreeNode('macbook')\n",
    "    asus = TreeNode('asus')\n",
    "    hp = TreeNode('hp')\n",
    "    \n",
    "    add_multi_children(laptop, [lenovo, samsung, macbook, asus, hp])\n",
    "    \n",
    "    boat = TreeNode('boat')    \n",
    "    jbl = TreeNode('jbl')\n",
    "    \n",
    "    add_multi_children(accesories, [boat, jbl])\n",
    "    \n",
    "    speaker = TreeNode('speaker')    \n",
    "    neckband = TreeNode('neckband')\n",
    "    earbuds = TreeNode('earbuds')\n",
    "    \n",
    "    add_multi_children(boat, [speaker, neckband, earbuds])\n",
    "    \n",
    "    return root"
   ]
  },
  {
   "cell_type": "code",
   "execution_count": 38,
   "id": "4ee1ab13",
   "metadata": {},
   "outputs": [],
   "source": [
    "root = create_tree()"
   ]
  },
  {
   "cell_type": "code",
   "execution_count": 39,
   "id": "36551fdf",
   "metadata": {},
   "outputs": [
    {
     "name": "stdout",
     "output_type": "stream",
     "text": [
      "Electronics\n",
      "\t--| Mobile\n",
      "\t\t--| Redmi\n",
      "\t\t--| Samsung\n",
      "\t\t--| Iphone\n",
      "\t\t--| Vivo\n",
      "\t--| Laptop\n",
      "\t\t--| Lenovo\n",
      "\t\t--| Samsung\n",
      "\t\t--| Macbook\n",
      "\t\t--| Asus\n",
      "\t\t--| Hp\n",
      "\t--| Accesories\n",
      "\t\t--| Boat\n",
      "\t\t\t--| Speaker\n",
      "\t\t\t--| Neckband\n",
      "\t\t\t--| Earbuds\n",
      "\t\t--| Jbl\n"
     ]
    }
   ],
   "source": [
    "root.print_child()"
   ]
  },
  {
   "cell_type": "code",
   "execution_count": 41,
   "id": "90cdb26f",
   "metadata": {},
   "outputs": [
    {
     "data": {
      "text/plain": [
       "'Electronics'"
      ]
     },
     "execution_count": 41,
     "metadata": {},
     "output_type": "execute_result"
    }
   ],
   "source": [
    "root.__getattribute__('data')"
   ]
  },
  {
   "cell_type": "code",
   "execution_count": null,
   "id": "0ec2eb36",
   "metadata": {},
   "outputs": [],
   "source": []
  }
 ],
 "metadata": {
  "kernelspec": {
   "display_name": "Python 3 (ipykernel)",
   "language": "python",
   "name": "python3"
  },
  "language_info": {
   "codemirror_mode": {
    "name": "ipython",
    "version": 3
   },
   "file_extension": ".py",
   "mimetype": "text/x-python",
   "name": "python",
   "nbconvert_exporter": "python",
   "pygments_lexer": "ipython3",
   "version": "3.11.3"
  }
 },
 "nbformat": 4,
 "nbformat_minor": 5
}
